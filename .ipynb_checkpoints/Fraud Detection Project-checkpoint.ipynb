{
 "cells": [
  {
   "cell_type": "markdown",
   "id": "d289fa00",
   "metadata": {},
   "source": [
    "## Credit card fraud analysis"
   ]
  },
  {
   "cell_type": "markdown",
   "id": "a8575946",
   "metadata": {},
   "source": [
    "In this solution we will analyse the core of a credit card fraud to identify patterns indicating potential employee fraud and weaknesses in the credit portfolio. We will start by dealing with the highly unbalanced data common in fraud analysis. We will use re-weighting of the data, and the second will use re-sampling, using the popular SMOTE technique for oversampling the rare fraud data."
   ]
  },
  {
   "cell_type": "markdown",
   "id": "ab2d2b7a",
   "metadata": {},
   "source": [
    "### Set up environment"
   ]
  },
  {
   "cell_type": "code",
   "execution_count": null,
   "id": "c69aaaae",
   "metadata": {},
   "outputs": [],
   "source": []
  }
 ],
 "metadata": {
  "kernelspec": {
   "display_name": "Python 3 (ipykernel)",
   "language": "python",
   "name": "python3"
  },
  "language_info": {
   "codemirror_mode": {
    "name": "ipython",
    "version": 3
   },
   "file_extension": ".py",
   "mimetype": "text/x-python",
   "name": "python",
   "nbconvert_exporter": "python",
   "pygments_lexer": "ipython3",
   "version": "3.11.7"
  }
 },
 "nbformat": 4,
 "nbformat_minor": 5
}
